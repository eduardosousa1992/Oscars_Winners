{
  "nbformat": 4,
  "nbformat_minor": 0,
  "metadata": {
    "colab": {
      "name": "Oscar.ipynb",
      "private_outputs": true,
      "provenance": [],
      "authorship_tag": "ABX9TyM9UzJPNMDtkRNBSjIDDR6o",
      "include_colab_link": true
    },
    "kernelspec": {
      "name": "python3",
      "display_name": "Python 3"
    },
    "language_info": {
      "name": "python"
    }
  },
  "cells": [
    {
      "cell_type": "markdown",
      "metadata": {
        "id": "view-in-github",
        "colab_type": "text"
      },
      "source": [
        "<a href=\"https://colab.research.google.com/github/eduardosousa1992/Oscars_Winners/blob/main/Oscar.ipynb\" target=\"_parent\"><img src=\"https://colab.research.google.com/assets/colab-badge.svg\" alt=\"Open In Colab\"/></a>"
      ]
    },
    {
      "cell_type": "markdown",
      "metadata": {
        "id": "Mgo6x7ATBR_N"
      },
      "source": [
        "# **Importar as bibliotecas e o arquivo que serão utilizadas durante as análises.Eu não posso deixar de colocar pandas, o grande facilitador das nossas vida ❤ **"
      ]
    },
    {
      "cell_type": "code",
      "metadata": {
        "id": "W_jXal-wt8Qx"
      },
      "source": [
        "import pandas as pd\n",
        "import seaborn as sns\n",
        "import matplotlib as plt\n",
        "%matplotlib inline \n",
        "import numpy as np\n",
        "import os\n",
        "import cufflinks as cf\n",
        "from plotly.offline import download_plotlyjs, init_notebook_mode, plot, iplot \n",
        "init_notebook_mode(connected=True)\n",
        "cf.go_offline()"
      ],
      "execution_count": null,
      "outputs": []
    },
    {
      "cell_type": "code",
      "metadata": {
        "id": "UxtCYDXDwtRa"
      },
      "source": [
        "oscar_winners = pd.read_csv('Oscars-demographics-DFE.csv', encoding='latin=1', sep = ',')\n",
        "oscar_winners"
      ],
      "execution_count": null,
      "outputs": []
    },
    {
      "cell_type": "code",
      "metadata": {
        "id": "nOv2RZcyvGnP"
      },
      "source": [
        "oscar_winners.head()"
      ],
      "execution_count": null,
      "outputs": []
    },
    {
      "cell_type": "markdown",
      "metadata": {
        "id": "FZS4ScJNAzV_"
      },
      "source": [
        "# **verifico se existem duplicatas, para garantir que estamos lidando com dados únicos nas análises.**"
      ]
    },
    {
      "cell_type": "code",
      "metadata": {
        "id": "6IQ8kM1xAOhV"
      },
      "source": [
        "oscar_winners.shape"
      ],
      "execution_count": null,
      "outputs": []
    },
    {
      "cell_type": "code",
      "metadata": {
        "id": "hJimdqnkAh3b"
      },
      "source": [
        "oscar_winners = oscar_winners.drop_duplicates()\n",
        "oscar_winners.shape"
      ],
      "execution_count": null,
      "outputs": []
    },
    {
      "cell_type": "markdown",
      "metadata": {
        "id": "x-DretxXCA7J"
      },
      "source": [
        "# **Validar se existem valores nulos. Como a base apresenta muitos valores nulos em diversas colunas, será necessário tratá-las.**"
      ]
    },
    {
      "cell_type": "code",
      "metadata": {
        "id": "7vKsrp4ABGb2"
      },
      "source": [
        "oscar_winners.isnull().sum()"
      ],
      "execution_count": null,
      "outputs": []
    },
    {
      "cell_type": "code",
      "metadata": {
        "id": "IdB6BFKcCXzb"
      },
      "source": [
        "#Criando colunas para marcar colunas que tinham valores nulos \n",
        "oscar_winners['last_judgement_at_nulls'] = np.where(oscar_winners['_last_judgment_at'].isnull(),'null','n/a')\n",
        "oscar_winners['birthplace_gold_nulls'] = np.where(oscar_winners['birthplace_gold'].isnull(),'null','n/a')\n",
        "oscar_winners['date_of_birth_gold_nulls'] = np.where(oscar_winners['date_of_birth_gold'].isnull(),'null','n/a')\n",
        "oscar_winners['race_ethnicity_gold_nulls'] = np.where(oscar_winners['race_ethnicity'].isnull(),'null','n/a')\n",
        "oscar_winners['religion_gold_nulls'] = np.where(oscar_winners['religion_gold'].isnull(),'null','n/a')\n",
        "oscar_winners['sexual_orientation_gold_nulls'] = np.where(oscar_winners['sexual_orientation_gold'].isnull(),'null','n/a')\n",
        "oscar_winners['year_of_award_gold_nulls'] = np.where(oscar_winners['year_of_award_gold'].isnull(),'null','n/a')"
      ],
      "execution_count": null,
      "outputs": []
    },
    {
      "cell_type": "code",
      "metadata": {
        "id": "I-zU_WYJFMNW"
      },
      "source": [
        "oscar_winners.head()"
      ],
      "execution_count": null,
      "outputs": []
    },
    {
      "cell_type": "markdown",
      "metadata": {
        "id": "ZVRpdqX8I2Lq"
      },
      "source": [
        "# Depois de substituir todas as células nulas, é importante verificar se de fato não sobrou nenhuma."
      ]
    },
    {
      "cell_type": "code",
      "metadata": {
        "id": "apFWjogKGRID"
      },
      "source": [
        "oscar_winners['_last_judgment_at'] = oscar_winners['_last_judgment_at'].fillna(0)\n",
        "oscar_winners['date_of_birth_gold'] = oscar_winners['date_of_birth_gold'].fillna(0)\n",
        "oscar_winners['year_of_award_gold'] = oscar_winners['year_of_award_gold'].fillna(0)\n",
        "oscar_winners['birthplace_gold'] = oscar_winners['birthplace_gold'].fillna('N/A')\n",
        "oscar_winners['race_ethnicity_gold'] = oscar_winners['race_ethnicity_gold'].fillna('N/A')\n",
        "oscar_winners['religion_gold'] = oscar_winners['religion_gold'].fillna('N/A')\n",
        "oscar_winners['sexual_orientation_gold'] = oscar_winners['sexual_orientation_gold'].fillna('N/A')"
      ],
      "execution_count": null,
      "outputs": []
    },
    {
      "cell_type": "code",
      "metadata": {
        "id": "lhxD6UwbH30X"
      },
      "source": [
        "oscar_winners.isnull().sum()"
      ],
      "execution_count": null,
      "outputs": []
    },
    {
      "cell_type": "markdown",
      "metadata": {
        "id": "NY2WvhtgJSh-"
      },
      "source": [
        "# A função to_datetime. Essa função transforma qualquer formato de data, sem você precisar direcionar a função para isso, e deixa a data em formato de data."
      ]
    },
    {
      "cell_type": "code",
      "metadata": {
        "id": "wdM-n9U2JB6z"
      },
      "source": [
        "#Colocando ambas colunaslast judgmente at e date brith em formato de data \n",
        "\n",
        "oscar_winners['_last_judgment_at'] = pd.to_datetime(oscar_winners['_last_judgment_at'])\n",
        "oscar_winners['date_of_birth_gold'] = pd.to_datetime(oscar_winners['date_of_birth_gold'])"
      ],
      "execution_count": null,
      "outputs": []
    },
    {
      "cell_type": "code",
      "metadata": {
        "id": "3rHWnBP2KJRx"
      },
      "source": [
        "#Verificando se o ajuste foi bem sucedido \n",
        "oscar_winners.head()"
      ],
      "execution_count": null,
      "outputs": []
    },
    {
      "cell_type": "code",
      "metadata": {
        "id": "i0s4fd3sKQ8n"
      },
      "source": [
        "oscar_winners = oscar_winners.rename(columns = {'_unit_id':'unit_id','_golden':'golden','_unit_state':'unit_state','_trusted_judgments':'trusted_judgments', '_last_judgment_at':'last_judgment_at'})"
      ],
      "execution_count": null,
      "outputs": []
    },
    {
      "cell_type": "markdown",
      "metadata": {
        "id": "z2NPwNZfM0Gb"
      },
      "source": [
        "# Por último, mas também muito importante, trocar o nome das colunas que não estão da forma mais intuitiva possível."
      ]
    },
    {
      "cell_type": "code",
      "metadata": {
        "id": "xoJa1VaLMfWI"
      },
      "source": [
        "oscar_winners.head()"
      ],
      "execution_count": null,
      "outputs": []
    },
    {
      "cell_type": "code",
      "metadata": {
        "id": "UUjEwcFAMhxc"
      },
      "source": [
        "plt.style.available"
      ],
      "execution_count": null,
      "outputs": []
    }
  ]
}